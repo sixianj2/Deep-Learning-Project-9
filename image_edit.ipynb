{
 "cells": [
  {
   "cell_type": "code",
   "execution_count": 7,
   "metadata": {},
   "outputs": [],
   "source": [
    "from PIL import Image"
   ]
  },
  {
   "cell_type": "code",
   "execution_count": 8,
   "metadata": {},
   "outputs": [],
   "source": [
    "from PIL import Image\n",
    "import cv2\n",
    "import glob\n",
    "count=0\n",
    "for img in glob.glob(\"cartoon/*png\"):\n",
    "    im = Image.open(img)\n",
    "    bg = Image.new(\"RGB\", im.size, (255,255,255))\n",
    "    bg.paste(im,im)\n",
    "    new_bg=bg.resize((256, 256))\n",
    "    new_bg.save('c2/'+str(count)+'.jpg')\n",
    "    count +=1 \n",
    "    if count ==315:\n",
    "        break\n",
    "#     png_img = cv2.imread('prof_edit/'+str(count)+'.png')\n",
    "\n",
    "#     # converting to jpg file\n",
    "#     #saving the jpg file\n",
    "#     cv2.imwrite('prof_edit1/'+str(count)+'.jpg', new_image, [int(cv2.IMWRITE_JPEG_QUALITY), 100])"
   ]
  },
  {
   "cell_type": "code",
   "execution_count": 9,
   "metadata": {},
   "outputs": [],
   "source": [
    "from PIL import Image\n",
    "import cv2\n",
    "import glob\n",
    "count=0\n",
    "for img in glob.glob(\"cartoon/*jpg\"):\n",
    "    im = Image.open(img)\n",
    "    new_bg=im.resize((256, 256))\n",
    "    new_bg.save('c2/'+str(count)+'.jpg')\n",
    "    count +=1 \n",
    "    if count ==500:\n",
    "        break"
   ]
  },
  {
   "cell_type": "code",
   "execution_count": 10,
   "metadata": {},
   "outputs": [],
   "source": [
    "from PIL import Image\n",
    "import numpy as np\n",
    "import glob\n",
    "import cv2\n",
    "root_addr = 'C:/Users/10434/Desktop'\n",
    "count = 177\n",
    "for img in glob.glob(root_addr+\"/prof_edit/*\"):\n",
    "    a = np.asarray(Image.open(img).convert(\"L\")).astype(\"float\")\n",
    "    depth = 10  \n",
    "    grad_x, grad_y = np.gradient(a)  \n",
    "    grad_x = grad_x*depth/100\n",
    "    grad_y = grad_y*depth/100\n",
    "    A = np.sqrt(grad_x**2 + grad_y**2 + 1.)\n",
    "    uni_x = grad_x/A\n",
    "    uni_y = grad_y/A\n",
    "    uni_z = 1./A\n",
    "\n",
    "    vec_el = np.pi/2.2 \n",
    "    vec_az = np.pi/4.   \n",
    "    dx = np.cos(vec_el)*np.cos(vec_az)\n",
    "    dy = np.cos(vec_el)*np.sin(vec_az)\n",
    "    dz = np.sin(vec_el)\n",
    "\n",
    "    b = 255*(dx*uni_x + dy*uni_y + dz*uni_z)\n",
    "    b = b.clip(0, 255)\n",
    "    im = Image.fromarray(b.astype('uint8'))\n",
    "    im = np.array(im) \n",
    "    im = cv2.cvtColor(im, cv2.COLOR_GRAY2BGR)\n",
    "    cv2.imwrite(root_addr + '/prof hand drawing/' + str(count) + \".jpg\", im)\n",
    "    count = count + 1"
   ]
  },
  {
   "cell_type": "code",
   "execution_count": null,
   "metadata": {},
   "outputs": [],
   "source": []
  }
 ],
 "metadata": {
  "kernelspec": {
   "display_name": "Python 3",
   "language": "python",
   "name": "python3"
  },
  "language_info": {
   "codemirror_mode": {
    "name": "ipython",
    "version": 3
   },
   "file_extension": ".py",
   "mimetype": "text/x-python",
   "name": "python",
   "nbconvert_exporter": "python",
   "pygments_lexer": "ipython3",
   "version": "3.7.6"
  }
 },
 "nbformat": 4,
 "nbformat_minor": 4
}
